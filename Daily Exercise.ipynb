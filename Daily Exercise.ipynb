{
 "cells": [
  {
   "cell_type": "markdown",
   "metadata": {},
   "source": [
    "# 1.Turn this every item of a list into its square.\n",
    "# a=[1,2,3,4,5,6,7]"
   ]
  },
  {
   "cell_type": "code",
   "execution_count": 4,
   "metadata": {},
   "outputs": [
    {
     "name": "stdout",
     "output_type": "stream",
     "text": [
      "[1, 4, 9, 16, 25, 36, 49]\n"
     ]
    }
   ],
   "source": [
    "a=[1,2,3,4,5,6,7]\n",
    "b=[]\n",
    "for i in a:\n",
    "    b1=i*i\n",
    "    b.append(b1)\n",
    "print(b)\n",
    "    "
   ]
  },
  {
   "cell_type": "markdown",
   "metadata": {},
   "source": [
    "# Concatenate two lists in the following order\n",
    "# list1=[\"Hello\", \"Hi\"]\n",
    "# list2=[\"Divya\", \"Sam\"]\n"
   ]
  },
  {
   "cell_type": "code",
   "execution_count": 20,
   "metadata": {},
   "outputs": [
    {
     "name": "stdout",
     "output_type": "stream",
     "text": [
      "['HelloDivya', 'HelloSam', 'HiDivya', 'HiSam']\n"
     ]
    }
   ],
   "source": [
    "list1=[\"Hello\", \"Hi\"]\n",
    "list2=[\"Divya\", \"Sam\"]\n",
    "list3=[]\n",
    "# for i in range(len(list1)):\n",
    "list3.append(list1[0] + list2[0])\n",
    "list3.append(list1[0] + list2[1])\n",
    "list3.append(list1[1] + list2[0])\n",
    "list3.append(list1[1] + list2[1])\n",
    "print(list3)"
   ]
  },
  {
   "cell_type": "code",
   "execution_count": 13,
   "metadata": {},
   "outputs": [
    {
     "name": "stdout",
     "output_type": "stream",
     "text": [
      "1 \n",
      "1 2 \n",
      "1 2 3 \n",
      "1 2 3 4 \n",
      "1 2 3 4 5 \n"
     ]
    }
   ],
   "source": [
    "a=5\n",
    "for a in range(1,a+1):\n",
    "    for b in range(1,a+1):\n",
    "        print(b,end=\" \")\n",
    "    print()"
   ]
  },
  {
   "cell_type": "markdown",
   "metadata": {},
   "source": [
    "# Write a python program that accepts a word from user and reverse it using for loop"
   ]
  },
  {
   "cell_type": "code",
   "execution_count": 15,
   "metadata": {},
   "outputs": [
    {
     "name": "stdout",
     "output_type": "stream",
     "text": [
      "Enter the Value:hisam\n",
      "masih"
     ]
    }
   ],
   "source": [
    "x = input(\"Enter the Value:\")\n",
    "for i in range(len(x)-1,-1,-1):\n",
    "    print(x[i],end=\"\")"
   ]
  },
  {
   "cell_type": "markdown",
   "metadata": {},
   "source": [
    "# Concatenate two lists index-wise"
   ]
  },
  {
   "cell_type": "code",
   "execution_count": 22,
   "metadata": {},
   "outputs": [
    {
     "name": "stdout",
     "output_type": "stream",
     "text": [
      "['welcome', 'to', 'Python', 'world']\n"
     ]
    }
   ],
   "source": [
    "ls1 = ['wel', 't', 'Py', 'wor']\n",
    "ls2 = ['come', 'o', 'thon', 'ld']\n",
    "ls3 = []\n",
    "for i in range(len(ls1)):\n",
    "    ls3.append(ls1[i] + ls2[i])\n",
    "print(ls3)"
   ]
  },
  {
   "cell_type": "code",
   "execution_count": null,
   "metadata": {},
   "outputs": [],
   "source": []
  }
 ],
 "metadata": {
  "kernelspec": {
   "display_name": "Python 3",
   "language": "python",
   "name": "python3"
  },
  "language_info": {
   "codemirror_mode": {
    "name": "ipython",
    "version": 3
   },
   "file_extension": ".py",
   "mimetype": "text/x-python",
   "name": "python",
   "nbconvert_exporter": "python",
   "pygments_lexer": "ipython3",
   "version": "3.8.3"
  }
 },
 "nbformat": 4,
 "nbformat_minor": 4
}
